{
  "nbformat": 4,
  "nbformat_minor": 0,
  "metadata": {
    "colab": {
      "provenance": []
    },
    "kernelspec": {
      "name": "python3",
      "display_name": "Python 3"
    },
    "language_info": {
      "name": "python"
    }
  },
  "cells": [
    {
      "cell_type": "code",
      "execution_count": null,
      "metadata": {
        "id": "ibV5EE96NjJ7"
      },
      "outputs": [],
      "source": [
        "import os\n",
        "import pandas as pd\n",
        "\n",
        "folder_path = '/content/drive/MyDrive/textanalytics/Project/LOLLabeled'\n",
        "labeled_path = \"/content/drive/MyDrive/textanalytics/Project/emote-controlled/data/labeled_dataset.csv\"\n",
        "col = [\"sentiment\", \"message\"]\n",
        "df = pd.read_csv(labeled_path)\n",
        "df.drop(columns=[\"date\", \"channel\", \"game\", \"user\", \"mod\", \"subscriber\"], inplace=True)"
      ]
    },
    {
      "cell_type": "code",
      "source": [
        "df.rename(columns = {'message':'comment'}, inplace = True)\n",
        "df = df[df['sentiment'] != \"sentiment\"]\n",
        "df = df.reset_index(drop=True)\n",
        "\n",
        "df = df[df['comment'] != \"comment\"]\n",
        "df = df.reset_index(drop=True)\n",
        "df = df.dropna()\n",
        "df.comment = df.comment.str.lower()"
      ],
      "metadata": {
        "id": "H-h0xz-TV5Mz"
      },
      "execution_count": null,
      "outputs": []
    },
    {
      "cell_type": "code",
      "source": [
        "# only those streamers were taken to prune their dataset because where the ones with the biggest dataset\n",
        "l = []\n",
        "l.append(\"/content/drive/MyDrive/textanalytics/Project/LOLLabeled/C9Sneaky_comments.csv\")\n",
        "l.append(\"/content/drive/MyDrive/textanalytics/Project/LOLLabeled/Yassuo_comments.csv\")\n",
        "l.append(\"/content/drive/MyDrive/textanalytics/Project/LOLLabeled/TFBlade_comments.csv\")\n",
        "l.append(\"/content/drive/MyDrive/textanalytics/Project/LOLLabeled/lolTyler1_comments.csv\")"
      ],
      "metadata": {
        "id": "8hK0Gr0fcHVc"
      },
      "execution_count": null,
      "outputs": []
    },
    {
      "cell_type": "code",
      "source": [
        "for d in l:\n",
        "  with open(d, \"r\") as file:\n",
        "      lines = file.readlines()\n",
        "\n",
        "  new_lines = []\n",
        "  for line in lines:\n",
        "      new_line = line.replace(\";\", \"\")\n",
        "      new_lines.append(new_line)\n",
        "\n",
        "  with open(d, \"w\") as file:\n",
        "    file.writelines(new_lines)"
      ],
      "metadata": {
        "id": "tU1aPDkTdRu5"
      },
      "execution_count": null,
      "outputs": []
    },
    {
      "cell_type": "code",
      "source": [
        "col = [\"sentiment\", \"comment\"]\n",
        "tot = pd.DataFrame()\n",
        "tot = pd.concat([tot, df], axis=0, ignore_index=True)\n",
        "\n",
        "for file in l:\n",
        "  lol = pd.read_csv(file)\n",
        "\n",
        "  lol = lol[lol['sentiment'] != \"sentiment\"]\n",
        "  lol = lol.reset_index(drop=True)\n",
        "\n",
        "  lol = lol[lol['comment'] != \"comment\"]\n",
        "  lol = lol.reset_index(drop=True)\n",
        "  lol = lol.dropna()\n",
        "\n",
        "  print(\"prima \", len(lol))\n",
        "  subset = lol.sample(axis=0, frac=0.5)\n",
        "  tot = pd.concat([tot, subset], axis=0, ignore_index=True)\n",
        "  lol = lol.drop(subset.index)\n",
        "  lol.to_csv(file, index=False)\n",
        "\n",
        "  print(\"dopo\", len(lol))\n",
        "  print(\"df adesso: \", len(tot))"
      ],
      "metadata": {
        "colab": {
          "base_uri": "https://localhost:8080/"
        },
        "id": "bRNEhtTJOUJq",
        "outputId": "69dfc2c4-38e5-4b8d-86d9-33c24324ab27"
      },
      "execution_count": null,
      "outputs": [
        {
          "output_type": "stream",
          "name": "stdout",
          "text": [
            "prima  110691\n",
            "dopo 55345\n",
            "df adesso:  57268\n",
            "prima  116598\n",
            "dopo 58299\n",
            "df adesso:  115567\n",
            "prima  191294\n",
            "dopo 95647\n",
            "df adesso:  211214\n",
            "prima  316309\n",
            "dopo 158155\n",
            "df adesso:  369368\n"
          ]
        }
      ]
    },
    {
      "cell_type": "code",
      "source": [
        "p = \"/content/drive/MyDrive/textanalytics/Project/dataset/labeled_dataset_augmented.csv\"\n",
        "tot.to_csv(p, index=False)"
      ],
      "metadata": {
        "id": "8tdVCkvqVsgn"
      },
      "execution_count": null,
      "outputs": []
    },
    {
      "cell_type": "code",
      "source": [
        "aug = pd.read_csv(p)"
      ],
      "metadata": {
        "id": "oY18VoMFWrRd"
      },
      "execution_count": null,
      "outputs": []
    },
    {
      "cell_type": "code",
      "source": [
        "aug.head()"
      ],
      "metadata": {
        "id": "WmjsSRLlW0RE",
        "colab": {
          "base_uri": "https://localhost:8080/",
          "height": 221
        },
        "outputId": "d955e979-66f9-482c-ce71-12af8d8e88fc"
      },
      "execution_count": null,
      "outputs": [
        {
          "output_type": "execute_result",
          "data": {
            "text/plain": [
              "   sentiment                                            comment\n",
              "0          1                                           omegalul\n",
              "1          1  pepel clap pepel clap pepel clap pepel clap pe...\n",
              "2          1                                            🏹 zulul\n",
              "3         -1                                       cata dumbass\n",
              "4          0                                                 d:"
            ],
            "text/html": [
              "\n",
              "  <div id=\"df-59cd72b5-4566-45a3-be5f-2c3c5d4208ad\">\n",
              "    <div class=\"colab-df-container\">\n",
              "      <div>\n",
              "<style scoped>\n",
              "    .dataframe tbody tr th:only-of-type {\n",
              "        vertical-align: middle;\n",
              "    }\n",
              "\n",
              "    .dataframe tbody tr th {\n",
              "        vertical-align: top;\n",
              "    }\n",
              "\n",
              "    .dataframe thead th {\n",
              "        text-align: right;\n",
              "    }\n",
              "</style>\n",
              "<table border=\"1\" class=\"dataframe\">\n",
              "  <thead>\n",
              "    <tr style=\"text-align: right;\">\n",
              "      <th></th>\n",
              "      <th>sentiment</th>\n",
              "      <th>comment</th>\n",
              "    </tr>\n",
              "  </thead>\n",
              "  <tbody>\n",
              "    <tr>\n",
              "      <th>0</th>\n",
              "      <td>1</td>\n",
              "      <td>omegalul</td>\n",
              "    </tr>\n",
              "    <tr>\n",
              "      <th>1</th>\n",
              "      <td>1</td>\n",
              "      <td>pepel clap pepel clap pepel clap pepel clap pe...</td>\n",
              "    </tr>\n",
              "    <tr>\n",
              "      <th>2</th>\n",
              "      <td>1</td>\n",
              "      <td>🏹 zulul</td>\n",
              "    </tr>\n",
              "    <tr>\n",
              "      <th>3</th>\n",
              "      <td>-1</td>\n",
              "      <td>cata dumbass</td>\n",
              "    </tr>\n",
              "    <tr>\n",
              "      <th>4</th>\n",
              "      <td>0</td>\n",
              "      <td>d:</td>\n",
              "    </tr>\n",
              "  </tbody>\n",
              "</table>\n",
              "</div>\n",
              "      <button class=\"colab-df-convert\" onclick=\"convertToInteractive('df-59cd72b5-4566-45a3-be5f-2c3c5d4208ad')\"\n",
              "              title=\"Convert this dataframe to an interactive table.\"\n",
              "              style=\"display:none;\">\n",
              "        \n",
              "  <svg xmlns=\"http://www.w3.org/2000/svg\" height=\"24px\"viewBox=\"0 0 24 24\"\n",
              "       width=\"24px\">\n",
              "    <path d=\"M0 0h24v24H0V0z\" fill=\"none\"/>\n",
              "    <path d=\"M18.56 5.44l.94 2.06.94-2.06 2.06-.94-2.06-.94-.94-2.06-.94 2.06-2.06.94zm-11 1L8.5 8.5l.94-2.06 2.06-.94-2.06-.94L8.5 2.5l-.94 2.06-2.06.94zm10 10l.94 2.06.94-2.06 2.06-.94-2.06-.94-.94-2.06-.94 2.06-2.06.94z\"/><path d=\"M17.41 7.96l-1.37-1.37c-.4-.4-.92-.59-1.43-.59-.52 0-1.04.2-1.43.59L10.3 9.45l-7.72 7.72c-.78.78-.78 2.05 0 2.83L4 21.41c.39.39.9.59 1.41.59.51 0 1.02-.2 1.41-.59l7.78-7.78 2.81-2.81c.8-.78.8-2.07 0-2.86zM5.41 20L4 18.59l7.72-7.72 1.47 1.35L5.41 20z\"/>\n",
              "  </svg>\n",
              "      </button>\n",
              "      \n",
              "  <style>\n",
              "    .colab-df-container {\n",
              "      display:flex;\n",
              "      flex-wrap:wrap;\n",
              "      gap: 12px;\n",
              "    }\n",
              "\n",
              "    .colab-df-convert {\n",
              "      background-color: #E8F0FE;\n",
              "      border: none;\n",
              "      border-radius: 50%;\n",
              "      cursor: pointer;\n",
              "      display: none;\n",
              "      fill: #1967D2;\n",
              "      height: 32px;\n",
              "      padding: 0 0 0 0;\n",
              "      width: 32px;\n",
              "    }\n",
              "\n",
              "    .colab-df-convert:hover {\n",
              "      background-color: #E2EBFA;\n",
              "      box-shadow: 0px 1px 2px rgba(60, 64, 67, 0.3), 0px 1px 3px 1px rgba(60, 64, 67, 0.15);\n",
              "      fill: #174EA6;\n",
              "    }\n",
              "\n",
              "    [theme=dark] .colab-df-convert {\n",
              "      background-color: #3B4455;\n",
              "      fill: #D2E3FC;\n",
              "    }\n",
              "\n",
              "    [theme=dark] .colab-df-convert:hover {\n",
              "      background-color: #434B5C;\n",
              "      box-shadow: 0px 1px 3px 1px rgba(0, 0, 0, 0.15);\n",
              "      filter: drop-shadow(0px 1px 2px rgba(0, 0, 0, 0.3));\n",
              "      fill: #FFFFFF;\n",
              "    }\n",
              "  </style>\n",
              "\n",
              "      <script>\n",
              "        const buttonEl =\n",
              "          document.querySelector('#df-59cd72b5-4566-45a3-be5f-2c3c5d4208ad button.colab-df-convert');\n",
              "        buttonEl.style.display =\n",
              "          google.colab.kernel.accessAllowed ? 'block' : 'none';\n",
              "\n",
              "        async function convertToInteractive(key) {\n",
              "          const element = document.querySelector('#df-59cd72b5-4566-45a3-be5f-2c3c5d4208ad');\n",
              "          const dataTable =\n",
              "            await google.colab.kernel.invokeFunction('convertToInteractive',\n",
              "                                                     [key], {});\n",
              "          if (!dataTable) return;\n",
              "\n",
              "          const docLinkHtml = 'Like what you see? Visit the ' +\n",
              "            '<a target=\"_blank\" href=https://colab.research.google.com/notebooks/data_table.ipynb>data table notebook</a>'\n",
              "            + ' to learn more about interactive tables.';\n",
              "          element.innerHTML = '';\n",
              "          dataTable['output_type'] = 'display_data';\n",
              "          await google.colab.output.renderOutput(dataTable, element);\n",
              "          const docLink = document.createElement('div');\n",
              "          docLink.innerHTML = docLinkHtml;\n",
              "          element.appendChild(docLink);\n",
              "        }\n",
              "      </script>\n",
              "    </div>\n",
              "  </div>\n",
              "  "
            ]
          },
          "metadata": {},
          "execution_count": 18
        }
      ]
    },
    {
      "cell_type": "code",
      "source": [
        "print(len(aug))"
      ],
      "metadata": {
        "colab": {
          "base_uri": "https://localhost:8080/"
        },
        "id": "370GbJg8fqKk",
        "outputId": "1a76ecfc-9243-4d54-f021-27fbdbf1c94a"
      },
      "execution_count": null,
      "outputs": [
        {
          "output_type": "stream",
          "name": "stdout",
          "text": [
            "369368\n"
          ]
        }
      ]
    }
  ]
}